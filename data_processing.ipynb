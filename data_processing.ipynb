{
 "cells": [
  {
   "cell_type": "code",
   "execution_count": 56,
   "metadata": {},
   "outputs": [],
   "source": [
    "import pandas as pd\n",
    "import numpy as np\n",
    "import matplotlib.pyplot as plt\n",
    "from sklearn.linear_model import LogisticRegression\n",
    "from sklearn.preprocessing import OneHotEncoder\n",
    "from sklearn.compose import ColumnTransformer\n",
    "from sklearn.preprocessing import FunctionTransformer\n",
    "from sklearn.pipeline import Pipeline\n",
    "from sklearn.metrics import confusion_matrix\n",
    "from sklearn.metrics import accuracy_score\n",
    "from sklearn.model_selection import train_test_split\n",
    "from sklearn.neighbors import KDTree\n",
    "from sklearn.metrics import f1_score"
   ]
  },
  {
   "cell_type": "code",
   "execution_count": 2,
   "metadata": {},
   "outputs": [],
   "source": [
    "lax = pd.read_csv('./flight-delays/lax.csv',index_col=0).drop(columns=['DESTINATION_AIRPORT','ARRIVAL_TIME',\n",
    "    'TAXI_OUT','WHEELS_OFF','ELAPSED_TIME','AIR_TIME','WHEELS_ON','TAXI_IN','DEPARTURE_TIME','DEPARTURE_DELAY'])"
   ]
  },
  {
   "cell_type": "code",
   "execution_count": 3,
   "metadata": {},
   "outputs": [],
   "source": [
    "lax['DELAYED'] = lax['ARRIVAL_DELAY']>0"
   ]
  },
  {
   "cell_type": "code",
   "execution_count": 4,
   "metadata": {},
   "outputs": [],
   "source": [
    "lax['DELAYED'] = lax['DELAYED'].replace({True:1,False:0})"
   ]
  },
  {
   "cell_type": "code",
   "execution_count": 5,
   "metadata": {},
   "outputs": [],
   "source": [
    "lax = lax.drop(columns=['ARRIVAL_DELAY','YEAR'])"
   ]
  },
  {
   "cell_type": "code",
   "execution_count": 6,
   "metadata": {},
   "outputs": [
    {
     "data": {
      "text/html": [
       "<div>\n",
       "<style scoped>\n",
       "    .dataframe tbody tr th:only-of-type {\n",
       "        vertical-align: middle;\n",
       "    }\n",
       "\n",
       "    .dataframe tbody tr th {\n",
       "        vertical-align: top;\n",
       "    }\n",
       "\n",
       "    .dataframe thead th {\n",
       "        text-align: right;\n",
       "    }\n",
       "</style>\n",
       "<table border=\"1\" class=\"dataframe\">\n",
       "  <thead>\n",
       "    <tr style=\"text-align: right;\">\n",
       "      <th></th>\n",
       "      <th>101</th>\n",
       "      <th>103</th>\n",
       "      <th>129</th>\n",
       "      <th>156</th>\n",
       "      <th>195</th>\n",
       "      <th>196</th>\n",
       "      <th>197</th>\n",
       "      <th>330</th>\n",
       "      <th>342</th>\n",
       "      <th>344</th>\n",
       "    </tr>\n",
       "  </thead>\n",
       "  <tbody>\n",
       "    <tr>\n",
       "      <td>MONTH</td>\n",
       "      <td>1</td>\n",
       "      <td>1</td>\n",
       "      <td>1</td>\n",
       "      <td>1</td>\n",
       "      <td>1</td>\n",
       "      <td>1</td>\n",
       "      <td>1</td>\n",
       "      <td>1</td>\n",
       "      <td>1</td>\n",
       "      <td>1</td>\n",
       "    </tr>\n",
       "    <tr>\n",
       "      <td>DAY</td>\n",
       "      <td>1</td>\n",
       "      <td>1</td>\n",
       "      <td>1</td>\n",
       "      <td>1</td>\n",
       "      <td>1</td>\n",
       "      <td>1</td>\n",
       "      <td>1</td>\n",
       "      <td>1</td>\n",
       "      <td>1</td>\n",
       "      <td>1</td>\n",
       "    </tr>\n",
       "    <tr>\n",
       "      <td>DAY_OF_WEEK</td>\n",
       "      <td>4</td>\n",
       "      <td>4</td>\n",
       "      <td>4</td>\n",
       "      <td>4</td>\n",
       "      <td>4</td>\n",
       "      <td>4</td>\n",
       "      <td>4</td>\n",
       "      <td>4</td>\n",
       "      <td>4</td>\n",
       "      <td>4</td>\n",
       "    </tr>\n",
       "    <tr>\n",
       "      <td>AIRLINE</td>\n",
       "      <td>OO</td>\n",
       "      <td>OO</td>\n",
       "      <td>OO</td>\n",
       "      <td>UA</td>\n",
       "      <td>UA</td>\n",
       "      <td>UA</td>\n",
       "      <td>UA</td>\n",
       "      <td>OO</td>\n",
       "      <td>OO</td>\n",
       "      <td>OO</td>\n",
       "    </tr>\n",
       "    <tr>\n",
       "      <td>FLIGHT_NUMBER</td>\n",
       "      <td>6512</td>\n",
       "      <td>4986</td>\n",
       "      <td>2599</td>\n",
       "      <td>1222</td>\n",
       "      <td>1224</td>\n",
       "      <td>1296</td>\n",
       "      <td>1431</td>\n",
       "      <td>2622</td>\n",
       "      <td>5242</td>\n",
       "      <td>5466</td>\n",
       "    </tr>\n",
       "    <tr>\n",
       "      <td>TAIL_NUMBER</td>\n",
       "      <td>N925SW</td>\n",
       "      <td>N719SK</td>\n",
       "      <td>N435SW</td>\n",
       "      <td>N68452</td>\n",
       "      <td>N87531</td>\n",
       "      <td>N37471</td>\n",
       "      <td>N36207</td>\n",
       "      <td>N492SW</td>\n",
       "      <td>N744SK</td>\n",
       "      <td>N568SW</td>\n",
       "    </tr>\n",
       "    <tr>\n",
       "      <td>ORIGIN_AIRPORT</td>\n",
       "      <td>FAT</td>\n",
       "      <td>AUS</td>\n",
       "      <td>DEN</td>\n",
       "      <td>MCO</td>\n",
       "      <td>SFO</td>\n",
       "      <td>SAT</td>\n",
       "      <td>BOS</td>\n",
       "      <td>SMF</td>\n",
       "      <td>BOI</td>\n",
       "      <td>CLD</td>\n",
       "    </tr>\n",
       "    <tr>\n",
       "      <td>SCHEDULED_DEPARTURE</td>\n",
       "      <td>535</td>\n",
       "      <td>538</td>\n",
       "      <td>545</td>\n",
       "      <td>555</td>\n",
       "      <td>600</td>\n",
       "      <td>600</td>\n",
       "      <td>600</td>\n",
       "      <td>600</td>\n",
       "      <td>600</td>\n",
       "      <td>600</td>\n",
       "    </tr>\n",
       "    <tr>\n",
       "      <td>SCHEDULED_TIME</td>\n",
       "      <td>75</td>\n",
       "      <td>212</td>\n",
       "      <td>150</td>\n",
       "      <td>341</td>\n",
       "      <td>88</td>\n",
       "      <td>207</td>\n",
       "      <td>404</td>\n",
       "      <td>90</td>\n",
       "      <td>130</td>\n",
       "      <td>51</td>\n",
       "    </tr>\n",
       "    <tr>\n",
       "      <td>DISTANCE</td>\n",
       "      <td>209</td>\n",
       "      <td>1242</td>\n",
       "      <td>862</td>\n",
       "      <td>2218</td>\n",
       "      <td>337</td>\n",
       "      <td>1211</td>\n",
       "      <td>2611</td>\n",
       "      <td>373</td>\n",
       "      <td>674</td>\n",
       "      <td>86</td>\n",
       "    </tr>\n",
       "    <tr>\n",
       "      <td>SCHEDULED_ARRIVAL</td>\n",
       "      <td>650</td>\n",
       "      <td>710</td>\n",
       "      <td>715</td>\n",
       "      <td>836</td>\n",
       "      <td>728</td>\n",
       "      <td>727</td>\n",
       "      <td>944</td>\n",
       "      <td>730</td>\n",
       "      <td>710</td>\n",
       "      <td>651</td>\n",
       "    </tr>\n",
       "    <tr>\n",
       "      <td>LATITUDE</td>\n",
       "      <td>36.7762</td>\n",
       "      <td>30.1945</td>\n",
       "      <td>39.8584</td>\n",
       "      <td>28.4289</td>\n",
       "      <td>37.619</td>\n",
       "      <td>29.5337</td>\n",
       "      <td>42.3644</td>\n",
       "      <td>38.6954</td>\n",
       "      <td>43.5644</td>\n",
       "      <td>33.1272</td>\n",
       "    </tr>\n",
       "    <tr>\n",
       "      <td>LONGITUDE</td>\n",
       "      <td>-119.718</td>\n",
       "      <td>-97.6699</td>\n",
       "      <td>-104.667</td>\n",
       "      <td>-81.316</td>\n",
       "      <td>-122.375</td>\n",
       "      <td>-98.4698</td>\n",
       "      <td>-71.0052</td>\n",
       "      <td>-121.591</td>\n",
       "      <td>-116.223</td>\n",
       "      <td>-117.279</td>\n",
       "    </tr>\n",
       "    <tr>\n",
       "      <td>DELAYED</td>\n",
       "      <td>0</td>\n",
       "      <td>0</td>\n",
       "      <td>1</td>\n",
       "      <td>1</td>\n",
       "      <td>0</td>\n",
       "      <td>0</td>\n",
       "      <td>0</td>\n",
       "      <td>0</td>\n",
       "      <td>1</td>\n",
       "      <td>1</td>\n",
       "    </tr>\n",
       "  </tbody>\n",
       "</table>\n",
       "</div>"
      ],
      "text/plain": [
       "                         101      103      129      156      195      196  \\\n",
       "MONTH                      1        1        1        1        1        1   \n",
       "DAY                        1        1        1        1        1        1   \n",
       "DAY_OF_WEEK                4        4        4        4        4        4   \n",
       "AIRLINE                   OO       OO       OO       UA       UA       UA   \n",
       "FLIGHT_NUMBER           6512     4986     2599     1222     1224     1296   \n",
       "TAIL_NUMBER           N925SW   N719SK   N435SW   N68452   N87531   N37471   \n",
       "ORIGIN_AIRPORT           FAT      AUS      DEN      MCO      SFO      SAT   \n",
       "SCHEDULED_DEPARTURE      535      538      545      555      600      600   \n",
       "SCHEDULED_TIME            75      212      150      341       88      207   \n",
       "DISTANCE                 209     1242      862     2218      337     1211   \n",
       "SCHEDULED_ARRIVAL        650      710      715      836      728      727   \n",
       "LATITUDE             36.7762  30.1945  39.8584  28.4289   37.619  29.5337   \n",
       "LONGITUDE           -119.718 -97.6699 -104.667  -81.316 -122.375 -98.4698   \n",
       "DELAYED                    0        0        1        1        0        0   \n",
       "\n",
       "                         197      330      342      344  \n",
       "MONTH                      1        1        1        1  \n",
       "DAY                        1        1        1        1  \n",
       "DAY_OF_WEEK                4        4        4        4  \n",
       "AIRLINE                   UA       OO       OO       OO  \n",
       "FLIGHT_NUMBER           1431     2622     5242     5466  \n",
       "TAIL_NUMBER           N36207   N492SW   N744SK   N568SW  \n",
       "ORIGIN_AIRPORT           BOS      SMF      BOI      CLD  \n",
       "SCHEDULED_DEPARTURE      600      600      600      600  \n",
       "SCHEDULED_TIME           404       90      130       51  \n",
       "DISTANCE                2611      373      674       86  \n",
       "SCHEDULED_ARRIVAL        944      730      710      651  \n",
       "LATITUDE             42.3644  38.6954  43.5644  33.1272  \n",
       "LONGITUDE           -71.0052 -121.591 -116.223 -117.279  \n",
       "DELAYED                    0        0        1        1  "
      ]
     },
     "execution_count": 6,
     "metadata": {},
     "output_type": "execute_result"
    }
   ],
   "source": [
    "lax.head(10).T"
   ]
  },
  {
   "cell_type": "code",
   "execution_count": 7,
   "metadata": {},
   "outputs": [],
   "source": [
    "def time_to_minute(time):\n",
    "    padded_time = str(time).zfill(4)\n",
    "    minute = padded_time[2:]\n",
    "    hour = padded_time[:2]\n",
    "    return int(hour)*60+int(minute)"
   ]
  },
  {
   "cell_type": "code",
   "execution_count": 8,
   "metadata": {},
   "outputs": [],
   "source": [
    "lax['SCHEDULED_ARRIVAL']=lax['SCHEDULED_ARRIVAL'].apply(lambda x: time_to_minute(x))\n",
    "lax['SCHEDULED_DEPARTURE']=lax['SCHEDULED_DEPARTURE'].apply(lambda x: time_to_minute(x))"
   ]
  },
  {
   "cell_type": "code",
   "execution_count": 125,
   "metadata": {},
   "outputs": [],
   "source": [
    "delayed_lax = lax[lax['DELAYED']==1][['MONTH','AIRLINE','SCHEDULED_DEPARTURE','SCHEDULED_TIME','FLIGHT_NUMBER',\n",
    "                                     'SCHEDULED_ARRIVAL','DISTANCE','LATITUDE','LONGITUDE','DELAYED']]\n",
    "not_delayed_lax = lax[lax['DELAYED']==0][['MONTH','AIRLINE','SCHEDULED_DEPARTURE','SCHEDULED_TIME','FLIGHT_NUMBER',\n",
    "                                     'SCHEDULED_ARRIVAL','DISTANCE','LATITUDE','LONGITUDE','DELAYED']]\n",
    "\n",
    "X_train_d, X_test_d, y_train_d, y_test_d = train_test_split(delayed_lax.drop('DELAYED',axis=1),\n",
    "                                        delayed_lax['DELAYED'],test_size = 0.2,random_state = 1)\n",
    "X_test_d, X_valid_d, y_test_d, y_valid_d = train_test_split(X_test_d,y_test_d,test_size = 0.5,random_state = 1)\n",
    "\n",
    "\n",
    "X_train, X_test, y_train, y_test = train_test_split(not_delayed_lax.drop('DELAYED',axis=1),\n",
    "                                        not_delayed_lax['DELAYED'],test_size = 0.2,random_state = 1)\n",
    "X_test, X_valid, y_test, y_valid = train_test_split(X_test,y_test,test_size = 0.5,random_state = 1)\n",
    "\n",
    "X_train = pd.concat([X_train_d,X_train])\n",
    "X_test = pd.concat([X_test_d,X_test])\n",
    "X_valid = pd.concat([X_valid_d,X_valid])\n",
    "\n",
    "y_train = pd.concat([y_train_d,y_train])\n",
    "\n",
    "y_test = pd.concat([y_test_d,y_test])\n",
    "\n",
    "y_valid = pd.concat([y_valid_d,y_valid])\n"
   ]
  },
  {
   "cell_type": "code",
   "execution_count": 64,
   "metadata": {},
   "outputs": [
    {
     "name": "stderr",
     "output_type": "stream",
     "text": [
      "/Users/elvychen/opt/anaconda3/lib/python3.7/site-packages/sklearn/linear_model/logistic.py:947: ConvergenceWarning: lbfgs failed to converge. Increase the number of iterations.\n",
      "  \"of iterations.\", ConvergenceWarning)\n",
      "/Users/elvychen/opt/anaconda3/lib/python3.7/site-packages/sklearn/linear_model/sag.py:337: ConvergenceWarning: The max_iter was reached which means the coef_ did not converge\n",
      "  \"the coef_ did not converge\", ConvergenceWarning)\n",
      "/Users/elvychen/opt/anaconda3/lib/python3.7/site-packages/sklearn/linear_model/sag.py:337: ConvergenceWarning: The max_iter was reached which means the coef_ did not converge\n",
      "  \"the coef_ did not converge\", ConvergenceWarning)\n"
     ]
    }
   ],
   "source": [
    "c_val = ['newton-cg', 'lbfgs', 'liblinear', 'sag', 'saga']\n",
    "acc_scores = []\n",
    "f1_scores = []\n",
    "for i in c_val:\n",
    "    col_trans = ColumnTransformer([('one_hot_airline',OneHotEncoder(handle_unknown='ignore'),['AIRLINE']),\n",
    "                                  ('one_hot_month',OneHotEncoder(handle_unknown='ignore'),['MONTH']),\n",
    "                                  ('one_hot_flight_num',OneHotEncoder(handle_unknown='ignore'),['FLIGHT_NUMBER'])],\n",
    "                                  remainder='passthrough')\n",
    "    pip = Pipeline(steps=[('col',col_trans),\n",
    "                    ('logistic',LogisticRegression(solver=i))])\n",
    "    pip.fit(X_train,y_train)\n",
    "    y_predict = pip.predict(X_valid)\n",
    "    acc_scores.append(accuracy_score(y_valid,y_predict))\n",
    "    f1_scores.append(f1_score(y_valid, y_predict))"
   ]
  },
  {
   "cell_type": "code",
   "execution_count": 65,
   "metadata": {},
   "outputs": [
    {
     "data": {
      "text/html": [
       "<div>\n",
       "<style scoped>\n",
       "    .dataframe tbody tr th:only-of-type {\n",
       "        vertical-align: middle;\n",
       "    }\n",
       "\n",
       "    .dataframe tbody tr th {\n",
       "        vertical-align: top;\n",
       "    }\n",
       "\n",
       "    .dataframe thead th {\n",
       "        text-align: right;\n",
       "    }\n",
       "</style>\n",
       "<table border=\"1\" class=\"dataframe\">\n",
       "  <thead>\n",
       "    <tr style=\"text-align: right;\">\n",
       "      <th></th>\n",
       "      <th>f1_score</th>\n",
       "      <th>accuracy score</th>\n",
       "    </tr>\n",
       "    <tr>\n",
       "      <th>solver</th>\n",
       "      <th></th>\n",
       "      <th></th>\n",
       "    </tr>\n",
       "  </thead>\n",
       "  <tbody>\n",
       "    <tr>\n",
       "      <td>newton-cg</td>\n",
       "      <td>0.502011</td>\n",
       "      <td>0.639136</td>\n",
       "    </tr>\n",
       "    <tr>\n",
       "      <td>lbfgs</td>\n",
       "      <td>0.458613</td>\n",
       "      <td>0.622170</td>\n",
       "    </tr>\n",
       "    <tr>\n",
       "      <td>liblinear</td>\n",
       "      <td>0.461653</td>\n",
       "      <td>0.623731</td>\n",
       "    </tr>\n",
       "    <tr>\n",
       "      <td>sag</td>\n",
       "      <td>0.426290</td>\n",
       "      <td>0.611137</td>\n",
       "    </tr>\n",
       "    <tr>\n",
       "      <td>saga</td>\n",
       "      <td>0.423903</td>\n",
       "      <td>0.609160</td>\n",
       "    </tr>\n",
       "  </tbody>\n",
       "</table>\n",
       "</div>"
      ],
      "text/plain": [
       "           f1_score  accuracy score\n",
       "solver                             \n",
       "newton-cg  0.502011        0.639136\n",
       "lbfgs      0.458613        0.622170\n",
       "liblinear  0.461653        0.623731\n",
       "sag        0.426290        0.611137\n",
       "saga       0.423903        0.609160"
      ]
     },
     "execution_count": 65,
     "metadata": {},
     "output_type": "execute_result"
    }
   ],
   "source": [
    "c_df = pd.DataFrame(data={'solver':c_val,'f1_score':f1_scores,'accuracy score':acc_scores })\n",
    "c_df.set_index('solver')"
   ]
  },
  {
   "cell_type": "code",
   "execution_count": 107,
   "metadata": {},
   "outputs": [
    {
     "name": "stderr",
     "output_type": "stream",
     "text": [
      "/Users/elvychen/opt/anaconda3/lib/python3.7/site-packages/sklearn/utils/optimize.py:203: ConvergenceWarning: newton-cg failed to converge. Increase the number of iterations.\n",
      "  \"number of iterations.\", ConvergenceWarning)\n"
     ]
    }
   ],
   "source": [
    "c_val = [0.01,0.1,1,10,100]\n",
    "acc_scores = []\n",
    "f1_scores = []\n",
    "for i in c_val:\n",
    "    col_trans = ColumnTransformer([('one_hot_airline',OneHotEncoder(handle_unknown='ignore'),['AIRLINE']),\n",
    "                                  ('one_hot_month',OneHotEncoder(handle_unknown='ignore'),['MONTH']),\n",
    "                                  ('one_hot_flight_num',OneHotEncoder(handle_unknown='ignore'),['FLIGHT_NUMBER'])],\n",
    "                                  remainder='passthrough')\n",
    "    pip = Pipeline(steps=[('col',col_trans),\n",
    "                    ('logistic',LogisticRegression(solver='newton-cg',C=i))])\n",
    "    pip.fit(X_train,y_train)\n",
    "    y_predict = pip.predict(X_valid)\n",
    "    acc_scores.append(accuracy_score(y_valid,y_predict))\n",
    "    f1_scores.append(f1_score(y_valid, y_predict))"
   ]
  },
  {
   "cell_type": "code",
   "execution_count": 108,
   "metadata": {},
   "outputs": [
    {
     "data": {
      "text/html": [
       "<div>\n",
       "<style scoped>\n",
       "    .dataframe tbody tr th:only-of-type {\n",
       "        vertical-align: middle;\n",
       "    }\n",
       "\n",
       "    .dataframe tbody tr th {\n",
       "        vertical-align: top;\n",
       "    }\n",
       "\n",
       "    .dataframe thead th {\n",
       "        text-align: right;\n",
       "    }\n",
       "</style>\n",
       "<table border=\"1\" class=\"dataframe\">\n",
       "  <thead>\n",
       "    <tr style=\"text-align: right;\">\n",
       "      <th></th>\n",
       "      <th>f1_score</th>\n",
       "      <th>accuracy score</th>\n",
       "    </tr>\n",
       "    <tr>\n",
       "      <th>C value</th>\n",
       "      <th></th>\n",
       "      <th></th>\n",
       "    </tr>\n",
       "  </thead>\n",
       "  <tbody>\n",
       "    <tr>\n",
       "      <td>0.01</td>\n",
       "      <td>0.472638</td>\n",
       "      <td>0.631382</td>\n",
       "    </tr>\n",
       "    <tr>\n",
       "      <td>0.10</td>\n",
       "      <td>0.493438</td>\n",
       "      <td>0.638407</td>\n",
       "    </tr>\n",
       "    <tr>\n",
       "      <td>1.00</td>\n",
       "      <td>0.502011</td>\n",
       "      <td>0.639136</td>\n",
       "    </tr>\n",
       "    <tr>\n",
       "      <td>10.00</td>\n",
       "      <td>0.502009</td>\n",
       "      <td>0.638720</td>\n",
       "    </tr>\n",
       "    <tr>\n",
       "      <td>100.00</td>\n",
       "      <td>0.501579</td>\n",
       "      <td>0.638616</td>\n",
       "    </tr>\n",
       "  </tbody>\n",
       "</table>\n",
       "</div>"
      ],
      "text/plain": [
       "         f1_score  accuracy score\n",
       "C value                          \n",
       "0.01     0.472638        0.631382\n",
       "0.10     0.493438        0.638407\n",
       "1.00     0.502011        0.639136\n",
       "10.00    0.502009        0.638720\n",
       "100.00   0.501579        0.638616"
      ]
     },
     "execution_count": 108,
     "metadata": {},
     "output_type": "execute_result"
    }
   ],
   "source": [
    "c_df = pd.DataFrame(data={'C value':c_val,'f1_score':f1_scores,'accuracy score':acc_scores })\n",
    "c_df.set_index('C value')"
   ]
  },
  {
   "cell_type": "code",
   "execution_count": 39,
   "metadata": {},
   "outputs": [],
   "source": [
    "#logistic Regression"
   ]
  },
  {
   "cell_type": "code",
   "execution_count": 126,
   "metadata": {},
   "outputs": [
    {
     "name": "stdout",
     "output_type": "stream",
     "text": [
      "0.6344662468120543\n",
      "0.4950751312100079\n"
     ]
    }
   ],
   "source": [
    "col_trans = ColumnTransformer([('one_hot_airline',OneHotEncoder(handle_unknown='ignore'),['AIRLINE']),\n",
    "                                  ('one_hot_month',OneHotEncoder(handle_unknown='ignore'),['MONTH']),\n",
    "                                  ('one_hot_flight_num',OneHotEncoder(handle_unknown='ignore'),['FLIGHT_NUMBER'])],\n",
    "                                  remainder='passthrough')\n",
    "pip = Pipeline(steps=[('col',col_trans),\n",
    "                ('logistic',LogisticRegression(solver='newton-cg',C=1))])\n",
    "pip.fit(X_train,y_train)\n",
    "print(accuracy_score(y_test,pip.predict(X_test)))\n",
    "print(f1_score(y_test,pip.predict(X_test)))"
   ]
  },
  {
   "cell_type": "markdown",
   "metadata": {},
   "source": [
    "Logistic Regression is the most commonly used statistical model predicting binary dependent variable. The parameters that are taken into accounts are MONTH, AIRLINE, SCHEDULED_DEPARTURE, SCHEDULED_TIME, FLIGHT_NUMBER, SCHEDULED_ARRIVAL, DISTANCE, LATITUDE, and LONGITUDE with one-hot encoding on MONTH, AIRLINE, and FLIGHT NUMBER. As running through different solver, \"newton-cg\" tends to have higher f1_score and accuracy score comparing to other solvers, which proves that it is good for larger dataset. From the different C values, logistic regression turns out to have best accuracy score and f1_score when C equals to 1. Although the accuracy score improves in the logistic regression, the f1_score still remain low. ___fernie___ f1_score... \n",
    "In the end, when C=1 and solver = newton-cg, the accuracy score for testing dataset is 0.634 and f1_score is 0.495. "
   ]
  },
  {
   "cell_type": "code",
   "execution_count": 67,
   "metadata": {},
   "outputs": [
    {
     "data": {
      "text/plain": [
       "0.6344662468120543"
      ]
     },
     "execution_count": 67,
     "metadata": {},
     "output_type": "execute_result"
    }
   ],
   "source": [
    "pip = Pipeline(steps=[('col',col_trans),\n",
    "                    ('logistic',LogisticRegression(solver='newton-cg'))])\n",
    "pip.fit(X_train,y_train)\n",
    "accuracy_score(y_test,pip.predict(X_test))"
   ]
  },
  {
   "cell_type": "code",
   "execution_count": 22,
   "metadata": {},
   "outputs": [],
   "source": [
    "from sklearn.ensemble import RandomForestClassifier"
   ]
  },
  {
   "cell_type": "code",
   "execution_count": 127,
   "metadata": {},
   "outputs": [],
   "source": [
    "delayed_lax = lax[lax['DELAYED']==1][['MONTH','AIRLINE','SCHEDULED_DEPARTURE','SCHEDULED_TIME',\n",
    "                                     'SCHEDULED_ARRIVAL','DISTANCE','LATITUDE','LONGITUDE','DELAYED']]\n",
    "not_delayed_lax = lax[lax['DELAYED']==0][['MONTH','AIRLINE','SCHEDULED_DEPARTURE','SCHEDULED_TIME',\n",
    "                                     'SCHEDULED_ARRIVAL','DISTANCE','LATITUDE','LONGITUDE','DELAYED']]\n",
    "\n",
    "X_train_d, X_test_d, y_train_d, y_test_d = train_test_split(delayed_lax.drop('DELAYED',axis=1),\n",
    "                                        delayed_lax['DELAYED'],test_size = 0.2,random_state = 1)\n",
    "X_test_d, X_valid_d, y_test_d, y_valid_d = train_test_split(X_test_d,y_test_d,test_size = 0.5,random_state = 1)\n",
    "\n",
    "\n",
    "X_train, X_test, y_train, y_test = train_test_split(not_delayed_lax.drop('DELAYED',axis=1),\n",
    "                                        not_delayed_lax['DELAYED'],test_size = 0.2,random_state = 1)\n",
    "X_test, X_valid, y_test, y_valid = train_test_split(X_test,y_test,test_size = 0.5,random_state = 1)\n",
    "\n",
    "X_train = pd.concat([X_train_d,X_train])\n",
    "X_test = pd.concat([X_test_d,X_test])\n",
    "X_valid = pd.concat([X_valid_d,X_valid])\n",
    "\n",
    "y_train = pd.concat([y_train_d,y_train])\n",
    "\n",
    "y_test = pd.concat([y_test_d,y_test])\n",
    "\n",
    "y_valid = pd.concat([y_valid_d,y_valid])"
   ]
  },
  {
   "cell_type": "code",
   "execution_count": 84,
   "metadata": {},
   "outputs": [],
   "source": [
    "col_trans = ColumnTransformer([('one_hot_airline',OneHotEncoder(handle_unknown='ignore'),['AIRLINE']),\n",
    "                              ('one_hot_month',OneHotEncoder(handle_unknown='ignore'),['MONTH'])],\n",
    "                              remainder='passthrough')\n",
    "pip1 = Pipeline(steps=[('col',col_trans),\n",
    "                ('logistic',RandomForestClassifier(n_jobs=7,max_leaf_nodes=6500))])"
   ]
  },
  {
   "cell_type": "code",
   "execution_count": 85,
   "metadata": {},
   "outputs": [
    {
     "name": "stderr",
     "output_type": "stream",
     "text": [
      "/Users/elvychen/opt/anaconda3/lib/python3.7/site-packages/sklearn/ensemble/forest.py:245: FutureWarning: The default value of n_estimators will change from 10 in version 0.20 to 100 in 0.22.\n",
      "  \"10 in version 0.20 to 100 in 0.22.\", FutureWarning)\n"
     ]
    },
    {
     "data": {
      "text/plain": [
       "Pipeline(memory=None,\n",
       "         steps=[('col',\n",
       "                 ColumnTransformer(n_jobs=None, remainder='passthrough',\n",
       "                                   sparse_threshold=0.3,\n",
       "                                   transformer_weights=None,\n",
       "                                   transformers=[('one_hot_airline',\n",
       "                                                  OneHotEncoder(categorical_features=None,\n",
       "                                                                categories=None,\n",
       "                                                                drop=None,\n",
       "                                                                dtype=<class 'numpy.float64'>,\n",
       "                                                                handle_unknown='ignore',\n",
       "                                                                n_values=None,\n",
       "                                                                sparse=True),\n",
       "                                                  ['AIRLINE']),\n",
       "                                                 ('one_hot_month',\n",
       "                                                  OneHot...\n",
       "                ('logistic',\n",
       "                 RandomForestClassifier(bootstrap=True, class_weight=None,\n",
       "                                        criterion='gini', max_depth=None,\n",
       "                                        max_features='auto',\n",
       "                                        max_leaf_nodes=6500,\n",
       "                                        min_impurity_decrease=0.0,\n",
       "                                        min_impurity_split=None,\n",
       "                                        min_samples_leaf=1, min_samples_split=2,\n",
       "                                        min_weight_fraction_leaf=0.0,\n",
       "                                        n_estimators=10, n_jobs=7,\n",
       "                                        oob_score=False, random_state=None,\n",
       "                                        verbose=0, warm_start=False))],\n",
       "         verbose=False)"
      ]
     },
     "execution_count": 85,
     "metadata": {},
     "output_type": "execute_result"
    }
   ],
   "source": [
    "pip1.fit(X_train,y_train)"
   ]
  },
  {
   "cell_type": "code",
   "execution_count": 86,
   "metadata": {},
   "outputs": [
    {
     "data": {
      "text/plain": [
       "0.652615144418423"
      ]
     },
     "execution_count": 86,
     "metadata": {},
     "output_type": "execute_result"
    }
   ],
   "source": [
    "accuracy_score(y_valid,pip1.predict(X_valid))"
   ]
  },
  {
   "cell_type": "code",
   "execution_count": 87,
   "metadata": {},
   "outputs": [
    {
     "data": {
      "text/plain": [
       "0.6511216363920262"
      ]
     },
     "execution_count": 87,
     "metadata": {},
     "output_type": "execute_result"
    }
   ],
   "source": [
    "accuracy_score(y_test,pip1.predict(X_test))"
   ]
  },
  {
   "cell_type": "code",
   "execution_count": 90,
   "metadata": {},
   "outputs": [
    {
     "data": {
      "text/plain": [
       "0.5364261407042156"
      ]
     },
     "execution_count": 90,
     "metadata": {},
     "output_type": "execute_result"
    }
   ],
   "source": [
    "f1_score(y_valid,pip1.predict(X_valid))"
   ]
  },
  {
   "cell_type": "code",
   "execution_count": 89,
   "metadata": {},
   "outputs": [
    {
     "data": {
      "text/plain": [
       "0.5338340635649211"
      ]
     },
     "execution_count": 89,
     "metadata": {},
     "output_type": "execute_result"
    }
   ],
   "source": [
    "f1_score(y_test,pip1.predict(X_test))"
   ]
  },
  {
   "cell_type": "code",
   "execution_count": 40,
   "metadata": {},
   "outputs": [],
   "source": [
    "# Random Forest Classifier"
   ]
  },
  {
   "cell_type": "code",
   "execution_count": null,
   "metadata": {},
   "outputs": [],
   "source": []
  },
  {
   "cell_type": "code",
   "execution_count": 28,
   "metadata": {},
   "outputs": [],
   "source": [
    "from sklearn.neighbors import KNeighborsClassifier"
   ]
  },
  {
   "cell_type": "code",
   "execution_count": 128,
   "metadata": {},
   "outputs": [],
   "source": [
    "col_trans = ColumnTransformer([('one_hot_airline',OneHotEncoder(handle_unknown='ignore'),['AIRLINE']),\n",
    "                              ('one_hot_month',OneHotEncoder(handle_unknown='ignore'),['MONTH'])],\n",
    "                              remainder='passthrough')\n",
    "pip2 = Pipeline(steps=[('col',col_trans),\n",
    "                ('logistic',KNeighborsClassifier(n_neighbors=11))])"
   ]
  },
  {
   "cell_type": "code",
   "execution_count": 129,
   "metadata": {},
   "outputs": [
    {
     "data": {
      "text/plain": [
       "Pipeline(memory=None,\n",
       "         steps=[('col',\n",
       "                 ColumnTransformer(n_jobs=None, remainder='passthrough',\n",
       "                                   sparse_threshold=0.3,\n",
       "                                   transformer_weights=None,\n",
       "                                   transformers=[('one_hot_airline',\n",
       "                                                  OneHotEncoder(categorical_features=None,\n",
       "                                                                categories=None,\n",
       "                                                                drop=None,\n",
       "                                                                dtype=<class 'numpy.float64'>,\n",
       "                                                                handle_unknown='ignore',\n",
       "                                                                n_values=None,\n",
       "                                                                sparse=True),\n",
       "                                                  ['AIRLINE']),\n",
       "                                                 ('one_hot_month',\n",
       "                                                  OneHotEncoder(categorical_features=None,\n",
       "                                                                categories=None,\n",
       "                                                                drop=None,\n",
       "                                                                dtype=<class 'numpy.float64'>,\n",
       "                                                                handle_unknown='ignore',\n",
       "                                                                n_values=None,\n",
       "                                                                sparse=True),\n",
       "                                                  ['MONTH'])],\n",
       "                                   verbose=False)),\n",
       "                ('logistic',\n",
       "                 KNeighborsClassifier(algorithm='auto', leaf_size=30,\n",
       "                                      metric='minkowski', metric_params=None,\n",
       "                                      n_jobs=None, n_neighbors=11, p=2,\n",
       "                                      weights='uniform'))],\n",
       "         verbose=False)"
      ]
     },
     "execution_count": 129,
     "metadata": {},
     "output_type": "execute_result"
    }
   ],
   "source": [
    "pip2.fit(X_train,y_train)"
   ]
  },
  {
   "cell_type": "code",
   "execution_count": 130,
   "metadata": {},
   "outputs": [
    {
     "ename": "KeyboardInterrupt",
     "evalue": "",
     "output_type": "error",
     "traceback": [
      "\u001b[0;31m---------------------------------------------------------------------------\u001b[0m",
      "\u001b[0;31mKeyboardInterrupt\u001b[0m                         Traceback (most recent call last)",
      "\u001b[0;32m<ipython-input-130-8bc236a6bf76>\u001b[0m in \u001b[0;36m<module>\u001b[0;34m\u001b[0m\n\u001b[0;32m----> 1\u001b[0;31m \u001b[0maccuracy_score\u001b[0m\u001b[0;34m(\u001b[0m\u001b[0my_valid\u001b[0m\u001b[0;34m,\u001b[0m\u001b[0mpip2\u001b[0m\u001b[0;34m.\u001b[0m\u001b[0mpredict\u001b[0m\u001b[0;34m(\u001b[0m\u001b[0mX_valid\u001b[0m\u001b[0;34m)\u001b[0m\u001b[0;34m)\u001b[0m\u001b[0;34m\u001b[0m\u001b[0;34m\u001b[0m\u001b[0m\n\u001b[0m",
      "\u001b[0;32m~/opt/anaconda3/lib/python3.7/site-packages/sklearn/utils/metaestimators.py\u001b[0m in \u001b[0;36m<lambda>\u001b[0;34m(*args, **kwargs)\u001b[0m\n\u001b[1;32m    114\u001b[0m \u001b[0;34m\u001b[0m\u001b[0m\n\u001b[1;32m    115\u001b[0m         \u001b[0;31m# lambda, but not partial, allows help() to work with update_wrapper\u001b[0m\u001b[0;34m\u001b[0m\u001b[0;34m\u001b[0m\u001b[0;34m\u001b[0m\u001b[0m\n\u001b[0;32m--> 116\u001b[0;31m         \u001b[0mout\u001b[0m \u001b[0;34m=\u001b[0m \u001b[0;32mlambda\u001b[0m \u001b[0;34m*\u001b[0m\u001b[0margs\u001b[0m\u001b[0;34m,\u001b[0m \u001b[0;34m**\u001b[0m\u001b[0mkwargs\u001b[0m\u001b[0;34m:\u001b[0m \u001b[0mself\u001b[0m\u001b[0;34m.\u001b[0m\u001b[0mfn\u001b[0m\u001b[0;34m(\u001b[0m\u001b[0mobj\u001b[0m\u001b[0;34m,\u001b[0m \u001b[0;34m*\u001b[0m\u001b[0margs\u001b[0m\u001b[0;34m,\u001b[0m \u001b[0;34m**\u001b[0m\u001b[0mkwargs\u001b[0m\u001b[0;34m)\u001b[0m\u001b[0;34m\u001b[0m\u001b[0;34m\u001b[0m\u001b[0m\n\u001b[0m\u001b[1;32m    117\u001b[0m         \u001b[0;31m# update the docstring of the returned function\u001b[0m\u001b[0;34m\u001b[0m\u001b[0;34m\u001b[0m\u001b[0;34m\u001b[0m\u001b[0m\n\u001b[1;32m    118\u001b[0m         \u001b[0mupdate_wrapper\u001b[0m\u001b[0;34m(\u001b[0m\u001b[0mout\u001b[0m\u001b[0;34m,\u001b[0m \u001b[0mself\u001b[0m\u001b[0;34m.\u001b[0m\u001b[0mfn\u001b[0m\u001b[0;34m)\u001b[0m\u001b[0;34m\u001b[0m\u001b[0;34m\u001b[0m\u001b[0m\n",
      "\u001b[0;32m~/opt/anaconda3/lib/python3.7/site-packages/sklearn/pipeline.py\u001b[0m in \u001b[0;36mpredict\u001b[0;34m(self, X, **predict_params)\u001b[0m\n\u001b[1;32m    420\u001b[0m         \u001b[0;32mfor\u001b[0m \u001b[0m_\u001b[0m\u001b[0;34m,\u001b[0m \u001b[0mname\u001b[0m\u001b[0;34m,\u001b[0m \u001b[0mtransform\u001b[0m \u001b[0;32min\u001b[0m \u001b[0mself\u001b[0m\u001b[0;34m.\u001b[0m\u001b[0m_iter\u001b[0m\u001b[0;34m(\u001b[0m\u001b[0mwith_final\u001b[0m\u001b[0;34m=\u001b[0m\u001b[0;32mFalse\u001b[0m\u001b[0;34m)\u001b[0m\u001b[0;34m:\u001b[0m\u001b[0;34m\u001b[0m\u001b[0;34m\u001b[0m\u001b[0m\n\u001b[1;32m    421\u001b[0m             \u001b[0mXt\u001b[0m \u001b[0;34m=\u001b[0m \u001b[0mtransform\u001b[0m\u001b[0;34m.\u001b[0m\u001b[0mtransform\u001b[0m\u001b[0;34m(\u001b[0m\u001b[0mXt\u001b[0m\u001b[0;34m)\u001b[0m\u001b[0;34m\u001b[0m\u001b[0;34m\u001b[0m\u001b[0m\n\u001b[0;32m--> 422\u001b[0;31m         \u001b[0;32mreturn\u001b[0m \u001b[0mself\u001b[0m\u001b[0;34m.\u001b[0m\u001b[0msteps\u001b[0m\u001b[0;34m[\u001b[0m\u001b[0;34m-\u001b[0m\u001b[0;36m1\u001b[0m\u001b[0;34m]\u001b[0m\u001b[0;34m[\u001b[0m\u001b[0;34m-\u001b[0m\u001b[0;36m1\u001b[0m\u001b[0;34m]\u001b[0m\u001b[0;34m.\u001b[0m\u001b[0mpredict\u001b[0m\u001b[0;34m(\u001b[0m\u001b[0mXt\u001b[0m\u001b[0;34m,\u001b[0m \u001b[0;34m**\u001b[0m\u001b[0mpredict_params\u001b[0m\u001b[0;34m)\u001b[0m\u001b[0;34m\u001b[0m\u001b[0;34m\u001b[0m\u001b[0m\n\u001b[0m\u001b[1;32m    423\u001b[0m \u001b[0;34m\u001b[0m\u001b[0m\n\u001b[1;32m    424\u001b[0m     \u001b[0;34m@\u001b[0m\u001b[0mif_delegate_has_method\u001b[0m\u001b[0;34m(\u001b[0m\u001b[0mdelegate\u001b[0m\u001b[0;34m=\u001b[0m\u001b[0;34m'_final_estimator'\u001b[0m\u001b[0;34m)\u001b[0m\u001b[0;34m\u001b[0m\u001b[0;34m\u001b[0m\u001b[0m\n",
      "\u001b[0;32m~/opt/anaconda3/lib/python3.7/site-packages/sklearn/neighbors/classification.py\u001b[0m in \u001b[0;36mpredict\u001b[0;34m(self, X)\u001b[0m\n\u001b[1;32m    147\u001b[0m         \u001b[0mX\u001b[0m \u001b[0;34m=\u001b[0m \u001b[0mcheck_array\u001b[0m\u001b[0;34m(\u001b[0m\u001b[0mX\u001b[0m\u001b[0;34m,\u001b[0m \u001b[0maccept_sparse\u001b[0m\u001b[0;34m=\u001b[0m\u001b[0;34m'csr'\u001b[0m\u001b[0;34m)\u001b[0m\u001b[0;34m\u001b[0m\u001b[0;34m\u001b[0m\u001b[0m\n\u001b[1;32m    148\u001b[0m \u001b[0;34m\u001b[0m\u001b[0m\n\u001b[0;32m--> 149\u001b[0;31m         \u001b[0mneigh_dist\u001b[0m\u001b[0;34m,\u001b[0m \u001b[0mneigh_ind\u001b[0m \u001b[0;34m=\u001b[0m \u001b[0mself\u001b[0m\u001b[0;34m.\u001b[0m\u001b[0mkneighbors\u001b[0m\u001b[0;34m(\u001b[0m\u001b[0mX\u001b[0m\u001b[0;34m)\u001b[0m\u001b[0;34m\u001b[0m\u001b[0;34m\u001b[0m\u001b[0m\n\u001b[0m\u001b[1;32m    150\u001b[0m         \u001b[0mclasses_\u001b[0m \u001b[0;34m=\u001b[0m \u001b[0mself\u001b[0m\u001b[0;34m.\u001b[0m\u001b[0mclasses_\u001b[0m\u001b[0;34m\u001b[0m\u001b[0;34m\u001b[0m\u001b[0m\n\u001b[1;32m    151\u001b[0m         \u001b[0m_y\u001b[0m \u001b[0;34m=\u001b[0m \u001b[0mself\u001b[0m\u001b[0;34m.\u001b[0m\u001b[0m_y\u001b[0m\u001b[0;34m\u001b[0m\u001b[0;34m\u001b[0m\u001b[0m\n",
      "\u001b[0;32m~/opt/anaconda3/lib/python3.7/site-packages/sklearn/neighbors/base.py\u001b[0m in \u001b[0;36mkneighbors\u001b[0;34m(self, X, n_neighbors, return_distance)\u001b[0m\n\u001b[1;32m    432\u001b[0m                 \u001b[0mX\u001b[0m\u001b[0;34m,\u001b[0m \u001b[0mself\u001b[0m\u001b[0;34m.\u001b[0m\u001b[0m_fit_X\u001b[0m\u001b[0;34m,\u001b[0m \u001b[0mreduce_func\u001b[0m\u001b[0;34m=\u001b[0m\u001b[0mreduce_func\u001b[0m\u001b[0;34m,\u001b[0m\u001b[0;34m\u001b[0m\u001b[0;34m\u001b[0m\u001b[0m\n\u001b[1;32m    433\u001b[0m                 \u001b[0mmetric\u001b[0m\u001b[0;34m=\u001b[0m\u001b[0mself\u001b[0m\u001b[0;34m.\u001b[0m\u001b[0meffective_metric_\u001b[0m\u001b[0;34m,\u001b[0m \u001b[0mn_jobs\u001b[0m\u001b[0;34m=\u001b[0m\u001b[0mn_jobs\u001b[0m\u001b[0;34m,\u001b[0m\u001b[0;34m\u001b[0m\u001b[0;34m\u001b[0m\u001b[0m\n\u001b[0;32m--> 434\u001b[0;31m                 **kwds))\n\u001b[0m\u001b[1;32m    435\u001b[0m \u001b[0;34m\u001b[0m\u001b[0m\n\u001b[1;32m    436\u001b[0m         \u001b[0;32melif\u001b[0m \u001b[0mself\u001b[0m\u001b[0;34m.\u001b[0m\u001b[0m_fit_method\u001b[0m \u001b[0;32min\u001b[0m \u001b[0;34m[\u001b[0m\u001b[0;34m'ball_tree'\u001b[0m\u001b[0;34m,\u001b[0m \u001b[0;34m'kd_tree'\u001b[0m\u001b[0;34m]\u001b[0m\u001b[0;34m:\u001b[0m\u001b[0;34m\u001b[0m\u001b[0;34m\u001b[0m\u001b[0m\n",
      "\u001b[0;32m~/opt/anaconda3/lib/python3.7/site-packages/sklearn/metrics/pairwise.py\u001b[0m in \u001b[0;36mpairwise_distances_chunked\u001b[0;34m(X, Y, reduce_func, metric, n_jobs, working_memory, **kwds)\u001b[0m\n\u001b[1;32m   1446\u001b[0m             \u001b[0mX_chunk\u001b[0m \u001b[0;34m=\u001b[0m \u001b[0mX\u001b[0m\u001b[0;34m[\u001b[0m\u001b[0msl\u001b[0m\u001b[0;34m]\u001b[0m\u001b[0;34m\u001b[0m\u001b[0;34m\u001b[0m\u001b[0m\n\u001b[1;32m   1447\u001b[0m         D_chunk = pairwise_distances(X_chunk, Y, metric=metric,\n\u001b[0;32m-> 1448\u001b[0;31m                                      n_jobs=n_jobs, **kwds)\n\u001b[0m\u001b[1;32m   1449\u001b[0m         if ((X is Y or Y is None)\n\u001b[1;32m   1450\u001b[0m                 \u001b[0;32mand\u001b[0m \u001b[0mPAIRWISE_DISTANCE_FUNCTIONS\u001b[0m\u001b[0;34m.\u001b[0m\u001b[0mget\u001b[0m\u001b[0;34m(\u001b[0m\u001b[0mmetric\u001b[0m\u001b[0;34m,\u001b[0m \u001b[0;32mNone\u001b[0m\u001b[0;34m)\u001b[0m\u001b[0;34m\u001b[0m\u001b[0;34m\u001b[0m\u001b[0m\n",
      "\u001b[0;32m~/opt/anaconda3/lib/python3.7/site-packages/sklearn/metrics/pairwise.py\u001b[0m in \u001b[0;36mpairwise_distances\u001b[0;34m(X, Y, metric, n_jobs, **kwds)\u001b[0m\n\u001b[1;32m   1586\u001b[0m         \u001b[0mfunc\u001b[0m \u001b[0;34m=\u001b[0m \u001b[0mpartial\u001b[0m\u001b[0;34m(\u001b[0m\u001b[0mdistance\u001b[0m\u001b[0;34m.\u001b[0m\u001b[0mcdist\u001b[0m\u001b[0;34m,\u001b[0m \u001b[0mmetric\u001b[0m\u001b[0;34m=\u001b[0m\u001b[0mmetric\u001b[0m\u001b[0;34m,\u001b[0m \u001b[0;34m**\u001b[0m\u001b[0mkwds\u001b[0m\u001b[0;34m)\u001b[0m\u001b[0;34m\u001b[0m\u001b[0;34m\u001b[0m\u001b[0m\n\u001b[1;32m   1587\u001b[0m \u001b[0;34m\u001b[0m\u001b[0m\n\u001b[0;32m-> 1588\u001b[0;31m     \u001b[0;32mreturn\u001b[0m \u001b[0m_parallel_pairwise\u001b[0m\u001b[0;34m(\u001b[0m\u001b[0mX\u001b[0m\u001b[0;34m,\u001b[0m \u001b[0mY\u001b[0m\u001b[0;34m,\u001b[0m \u001b[0mfunc\u001b[0m\u001b[0;34m,\u001b[0m \u001b[0mn_jobs\u001b[0m\u001b[0;34m,\u001b[0m \u001b[0;34m**\u001b[0m\u001b[0mkwds\u001b[0m\u001b[0;34m)\u001b[0m\u001b[0;34m\u001b[0m\u001b[0;34m\u001b[0m\u001b[0m\n\u001b[0m\u001b[1;32m   1589\u001b[0m \u001b[0;34m\u001b[0m\u001b[0m\n\u001b[1;32m   1590\u001b[0m \u001b[0;34m\u001b[0m\u001b[0m\n",
      "\u001b[0;32m~/opt/anaconda3/lib/python3.7/site-packages/sklearn/metrics/pairwise.py\u001b[0m in \u001b[0;36m_parallel_pairwise\u001b[0;34m(X, Y, func, n_jobs, **kwds)\u001b[0m\n\u001b[1;32m   1204\u001b[0m \u001b[0;34m\u001b[0m\u001b[0m\n\u001b[1;32m   1205\u001b[0m     \u001b[0;32mif\u001b[0m \u001b[0meffective_n_jobs\u001b[0m\u001b[0;34m(\u001b[0m\u001b[0mn_jobs\u001b[0m\u001b[0;34m)\u001b[0m \u001b[0;34m==\u001b[0m \u001b[0;36m1\u001b[0m\u001b[0;34m:\u001b[0m\u001b[0;34m\u001b[0m\u001b[0;34m\u001b[0m\u001b[0m\n\u001b[0;32m-> 1206\u001b[0;31m         \u001b[0;32mreturn\u001b[0m \u001b[0mfunc\u001b[0m\u001b[0;34m(\u001b[0m\u001b[0mX\u001b[0m\u001b[0;34m,\u001b[0m \u001b[0mY\u001b[0m\u001b[0;34m,\u001b[0m \u001b[0;34m**\u001b[0m\u001b[0mkwds\u001b[0m\u001b[0;34m)\u001b[0m\u001b[0;34m\u001b[0m\u001b[0;34m\u001b[0m\u001b[0m\n\u001b[0m\u001b[1;32m   1207\u001b[0m \u001b[0;34m\u001b[0m\u001b[0m\n\u001b[1;32m   1208\u001b[0m     \u001b[0;31m# enforce a threading backend to prevent data communication overhead\u001b[0m\u001b[0;34m\u001b[0m\u001b[0;34m\u001b[0m\u001b[0;34m\u001b[0m\u001b[0m\n",
      "\u001b[0;32m~/opt/anaconda3/lib/python3.7/site-packages/sklearn/metrics/pairwise.py\u001b[0m in \u001b[0;36meuclidean_distances\u001b[0;34m(X, Y, Y_norm_squared, squared, X_norm_squared)\u001b[0m\n\u001b[1;32m    272\u001b[0m         \u001b[0;31m# if dtype is already float64, no need to chunk and upcast\u001b[0m\u001b[0;34m\u001b[0m\u001b[0;34m\u001b[0m\u001b[0;34m\u001b[0m\u001b[0m\n\u001b[1;32m    273\u001b[0m         \u001b[0mdistances\u001b[0m \u001b[0;34m=\u001b[0m \u001b[0;34m-\u001b[0m \u001b[0;36m2\u001b[0m \u001b[0;34m*\u001b[0m \u001b[0msafe_sparse_dot\u001b[0m\u001b[0;34m(\u001b[0m\u001b[0mX\u001b[0m\u001b[0;34m,\u001b[0m \u001b[0mY\u001b[0m\u001b[0;34m.\u001b[0m\u001b[0mT\u001b[0m\u001b[0;34m,\u001b[0m \u001b[0mdense_output\u001b[0m\u001b[0;34m=\u001b[0m\u001b[0;32mTrue\u001b[0m\u001b[0;34m)\u001b[0m\u001b[0;34m\u001b[0m\u001b[0;34m\u001b[0m\u001b[0m\n\u001b[0;32m--> 274\u001b[0;31m         \u001b[0mdistances\u001b[0m \u001b[0;34m+=\u001b[0m \u001b[0mXX\u001b[0m\u001b[0;34m\u001b[0m\u001b[0;34m\u001b[0m\u001b[0m\n\u001b[0m\u001b[1;32m    275\u001b[0m         \u001b[0mdistances\u001b[0m \u001b[0;34m+=\u001b[0m \u001b[0mYY\u001b[0m\u001b[0;34m\u001b[0m\u001b[0;34m\u001b[0m\u001b[0m\n\u001b[1;32m    276\u001b[0m     \u001b[0mnp\u001b[0m\u001b[0;34m.\u001b[0m\u001b[0mmaximum\u001b[0m\u001b[0;34m(\u001b[0m\u001b[0mdistances\u001b[0m\u001b[0;34m,\u001b[0m \u001b[0;36m0\u001b[0m\u001b[0;34m,\u001b[0m \u001b[0mout\u001b[0m\u001b[0;34m=\u001b[0m\u001b[0mdistances\u001b[0m\u001b[0;34m)\u001b[0m\u001b[0;34m\u001b[0m\u001b[0;34m\u001b[0m\u001b[0m\n",
      "\u001b[0;31mKeyboardInterrupt\u001b[0m: "
     ]
    }
   ],
   "source": [
    "accuracy_score(y_valid,pip2.predict(X_valid))"
   ]
  },
  {
   "cell_type": "code",
   "execution_count": 131,
   "metadata": {},
   "outputs": [
    {
     "data": {
      "text/plain": [
       "0.6371727476187997"
      ]
     },
     "execution_count": 131,
     "metadata": {},
     "output_type": "execute_result"
    }
   ],
   "source": [
    "accuracy_score(y_test,pip2.predict(X_test))"
   ]
  },
  {
   "cell_type": "code",
   "execution_count": null,
   "metadata": {},
   "outputs": [],
   "source": [
    "#K Neighbor Classifier"
   ]
  },
  {
   "cell_type": "code",
   "execution_count": 132,
   "metadata": {},
   "outputs": [
    {
     "data": {
      "text/plain": [
       "0.5365334751678745"
      ]
     },
     "execution_count": 132,
     "metadata": {},
     "output_type": "execute_result"
    }
   ],
   "source": [
    "f1_score(y_test,pip2.predict(X_test))"
   ]
  },
  {
   "cell_type": "code",
   "execution_count": 68,
   "metadata": {},
   "outputs": [],
   "source": [
    "from sklearn.ensemble import GradientBoostingClassifier"
   ]
  },
  {
   "cell_type": "code",
   "execution_count": 74,
   "metadata": {},
   "outputs": [],
   "source": [
    "lr_list = [0.05, 0.075, 0.1, 0.25, 0.5, 0.75, 1]\n",
    "acc = []\n",
    "f1 = []\n",
    "for i in lr_list:\n",
    "    col_trans = ColumnTransformer([('one_hot_airline',OneHotEncoder(handle_unknown='ignore'),['AIRLINE']),\n",
    "                                  ('one_hot_month',OneHotEncoder(handle_unknown='ignore'),['MONTH'])],\n",
    "                                  remainder='passthrough')\n",
    "    pip2 = Pipeline(steps=[('col',col_trans),\n",
    "                    ('logistic',GradientBoostingClassifier(learning_rate = i))])\n",
    "    pip2.fit(X_train,y_train)\n",
    "    y_predict = pip2.predict(X_valid)\n",
    "    acc.append(accuracy_score(y_valid,y_predict))\n",
    "    f1.append(f1_score(y_valid, y_predict))"
   ]
  },
  {
   "cell_type": "code",
   "execution_count": 75,
   "metadata": {},
   "outputs": [
    {
     "data": {
      "text/html": [
       "<div>\n",
       "<style scoped>\n",
       "    .dataframe tbody tr th:only-of-type {\n",
       "        vertical-align: middle;\n",
       "    }\n",
       "\n",
       "    .dataframe tbody tr th {\n",
       "        vertical-align: top;\n",
       "    }\n",
       "\n",
       "    .dataframe thead th {\n",
       "        text-align: right;\n",
       "    }\n",
       "</style>\n",
       "<table border=\"1\" class=\"dataframe\">\n",
       "  <thead>\n",
       "    <tr style=\"text-align: right;\">\n",
       "      <th></th>\n",
       "      <th>f1_score</th>\n",
       "      <th>accuracy score</th>\n",
       "    </tr>\n",
       "    <tr>\n",
       "      <th>Learning Rate</th>\n",
       "      <th></th>\n",
       "      <th></th>\n",
       "    </tr>\n",
       "  </thead>\n",
       "  <tbody>\n",
       "    <tr>\n",
       "      <td>0.050</td>\n",
       "      <td>0.449600</td>\n",
       "      <td>0.634556</td>\n",
       "    </tr>\n",
       "    <tr>\n",
       "      <td>0.075</td>\n",
       "      <td>0.462996</td>\n",
       "      <td>0.637106</td>\n",
       "    </tr>\n",
       "    <tr>\n",
       "      <td>0.100</td>\n",
       "      <td>0.475381</td>\n",
       "      <td>0.640125</td>\n",
       "    </tr>\n",
       "    <tr>\n",
       "      <td>0.250</td>\n",
       "      <td>0.493638</td>\n",
       "      <td>0.650013</td>\n",
       "    </tr>\n",
       "    <tr>\n",
       "      <td>0.500</td>\n",
       "      <td>0.512768</td>\n",
       "      <td>0.652459</td>\n",
       "    </tr>\n",
       "    <tr>\n",
       "      <td>0.750</td>\n",
       "      <td>0.518172</td>\n",
       "      <td>0.651574</td>\n",
       "    </tr>\n",
       "    <tr>\n",
       "      <td>1.000</td>\n",
       "      <td>0.516692</td>\n",
       "      <td>0.648139</td>\n",
       "    </tr>\n",
       "  </tbody>\n",
       "</table>\n",
       "</div>"
      ],
      "text/plain": [
       "               f1_score  accuracy score\n",
       "Learning Rate                          \n",
       "0.050          0.449600        0.634556\n",
       "0.075          0.462996        0.637106\n",
       "0.100          0.475381        0.640125\n",
       "0.250          0.493638        0.650013\n",
       "0.500          0.512768        0.652459\n",
       "0.750          0.518172        0.651574\n",
       "1.000          0.516692        0.648139"
      ]
     },
     "execution_count": 75,
     "metadata": {},
     "output_type": "execute_result"
    }
   ],
   "source": [
    "c_df = pd.DataFrame(data={'Learning Rate':lr_list,'f1_score':f1,'accuracy score':acc })\n",
    "c_df.set_index('Learning Rate')"
   ]
  },
  {
   "cell_type": "code",
   "execution_count": 139,
   "metadata": {},
   "outputs": [],
   "source": [
    "n_est = [500,750,1000,2000,3000]\n",
    "acc = []\n",
    "f1 = []\n",
    "for i in n_est:\n",
    "    col_trans = ColumnTransformer([('one_hot_airline',OneHotEncoder(handle_unknown='ignore'),['AIRLINE']),\n",
    "                                  ('one_hot_month',OneHotEncoder(handle_unknown='ignore'),['MONTH'])],\n",
    "                                  remainder='passthrough')\n",
    "    pip2 = Pipeline(steps=[('col',col_trans),\n",
    "                    ('logistic',GradientBoostingClassifier(learning_rate = 0.75,n_estimators=i))])\n",
    "    pip2.fit(X_train,y_train)\n",
    "    y_predict = pip2.predict(X_valid)\n",
    "    acc.append(accuracy_score(y_valid,y_predict))\n",
    "    f1.append(f1_score(y_valid, y_predict))"
   ]
  },
  {
   "cell_type": "code",
   "execution_count": 140,
   "metadata": {},
   "outputs": [
    {
     "data": {
      "text/html": [
       "<div>\n",
       "<style scoped>\n",
       "    .dataframe tbody tr th:only-of-type {\n",
       "        vertical-align: middle;\n",
       "    }\n",
       "\n",
       "    .dataframe tbody tr th {\n",
       "        vertical-align: top;\n",
       "    }\n",
       "\n",
       "    .dataframe thead th {\n",
       "        text-align: right;\n",
       "    }\n",
       "</style>\n",
       "<table border=\"1\" class=\"dataframe\">\n",
       "  <thead>\n",
       "    <tr style=\"text-align: right;\">\n",
       "      <th></th>\n",
       "      <th>f1 score</th>\n",
       "      <th>accuracy score</th>\n",
       "    </tr>\n",
       "    <tr>\n",
       "      <th>n_estimators</th>\n",
       "      <th></th>\n",
       "      <th></th>\n",
       "    </tr>\n",
       "  </thead>\n",
       "  <tbody>\n",
       "    <tr>\n",
       "      <td>500</td>\n",
       "      <td>0.540798</td>\n",
       "      <td>0.659381</td>\n",
       "    </tr>\n",
       "    <tr>\n",
       "      <td>750</td>\n",
       "      <td>0.544089</td>\n",
       "      <td>0.658808</td>\n",
       "    </tr>\n",
       "    <tr>\n",
       "      <td>1000</td>\n",
       "      <td>0.546287</td>\n",
       "      <td>0.659745</td>\n",
       "    </tr>\n",
       "    <tr>\n",
       "      <td>2000</td>\n",
       "      <td>0.545780</td>\n",
       "      <td>0.656622</td>\n",
       "    </tr>\n",
       "    <tr>\n",
       "      <td>3000</td>\n",
       "      <td>0.551246</td>\n",
       "      <td>0.656154</td>\n",
       "    </tr>\n",
       "  </tbody>\n",
       "</table>\n",
       "</div>"
      ],
      "text/plain": [
       "              f1 score  accuracy score\n",
       "n_estimators                          \n",
       "500           0.540798        0.659381\n",
       "750           0.544089        0.658808\n",
       "1000          0.546287        0.659745\n",
       "2000          0.545780        0.656622\n",
       "3000          0.551246        0.656154"
      ]
     },
     "execution_count": 140,
     "metadata": {},
     "output_type": "execute_result"
    }
   ],
   "source": [
    "c_df = pd.DataFrame(data={'n_estimators':n_est,'f1 score':f1,'accuracy score':acc })\n",
    "c_df.set_index('n_estimators')"
   ]
  },
  {
   "cell_type": "code",
   "execution_count": 142,
   "metadata": {},
   "outputs": [
    {
     "data": {
      "text/plain": [
       "0.6511216363920262"
      ]
     },
     "execution_count": 142,
     "metadata": {},
     "output_type": "execute_result"
    }
   ],
   "source": [
    "col_trans = ColumnTransformer([('one_hot_airline',OneHotEncoder(handle_unknown='ignore'),['AIRLINE']),\n",
    "                                  ('one_hot_month',OneHotEncoder(handle_unknown='ignore'),['MONTH'])],\n",
    "                                  remainder='passthrough')\n",
    "pip2 = Pipeline(steps=[('col',col_trans),\n",
    "                ('logistic',GradientBoostingClassifier(learning_rate = 0.75,n_estimators=1000))])\n",
    "pip2.fit(X_train,y_train)\n",
    "accuracy_score(y_test,pip2.predict(X_test))\n"
   ]
  },
  {
   "cell_type": "code",
   "execution_count": 143,
   "metadata": {},
   "outputs": [
    {
     "data": {
      "text/plain": [
       "0.5384562418233148"
      ]
     },
     "execution_count": 143,
     "metadata": {},
     "output_type": "execute_result"
    }
   ],
   "source": [
    "f1_score(y_test,pip2.predict(X_test))"
   ]
  },
  {
   "cell_type": "markdown",
   "metadata": {},
   "source": []
  }
 ],
 "metadata": {
  "kernelspec": {
   "display_name": "Python 3",
   "language": "python",
   "name": "python3"
  },
  "language_info": {
   "codemirror_mode": {
    "name": "ipython",
    "version": 3
   },
   "file_extension": ".py",
   "mimetype": "text/x-python",
   "name": "python",
   "nbconvert_exporter": "python",
   "pygments_lexer": "ipython3",
   "version": "3.7.4"
  }
 },
 "nbformat": 4,
 "nbformat_minor": 2
}
